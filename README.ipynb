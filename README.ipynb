{
 "cells": [
  {
   "cell_type": "markdown",
   "metadata": {},
   "source": [
    "## Pymaceuticals\n",
    "\n",
    "    {{'tumor_response.png'}}\n",
    "    \n",
    "- This project analyzed the complete data from the most recent animal study. In this study, 250 mice were treated through a variety of drug regimes over the course of 45 days. Their physiological responses were then monitored over the course of that time. The objective is to analyze the data to show how four treatments (Capomulin, Infubinol, Ketapril, and Placebo) compare.\n",
    "    Four graphs were created:\n",
    "    a scatter plot that shows how the tumor volume changes over time for each treatment,\n",
    "    a scatter plot that shows how the number of metastatic (cancer spreading) sites changes over time for each treatment,\n",
    "    a scatter plot that shows the number of mice still alive through the course of treatment (Survival Rate), \n",
    "    and a bar graph that compares the total % tumor volume change for each drug across the full 45 days.\n",
    "\n",
    "- Technologies: Jupyter Notebook, Python, Pandas, Matplotlib, Numpy, Seaborn, and SciPy"
   ]
  },
  {
   "cell_type": "code",
   "execution_count": null,
   "metadata": {
    "collapsed": true
   },
   "outputs": [],
   "source": []
  }
 ],
 "metadata": {
  "kernelspec": {
   "display_name": "Python [conda env:PythonData]",
   "language": "python",
   "name": "conda-env-PythonData-py"
  },
  "language_info": {
   "codemirror_mode": {
    "name": "ipython",
    "version": 3
   },
   "file_extension": ".py",
   "mimetype": "text/x-python",
   "name": "python",
   "nbconvert_exporter": "python",
   "pygments_lexer": "ipython3",
   "version": "3.6.1"
  }
 },
 "nbformat": 4,
 "nbformat_minor": 2
}
